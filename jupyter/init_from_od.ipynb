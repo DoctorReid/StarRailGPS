{
 "cells": [
  {
   "cell_type": "code",
   "execution_count": 1,
   "id": "432eba31-b154-48c4-aeb3-94222745f1b9",
   "metadata": {},
   "outputs": [],
   "source": [
    "import os\n",
    "os.environ['ONE_DRAGON_DIR'] = 'F:\\code\\workspace\\StarRailOneDragon'\n",
    "import sys\n",
    "sys.path.append('../src')"
   ]
  },
  {
   "cell_type": "code",
   "execution_count": 2,
   "id": "e87ef72e-5df4-4f4d-aa21-d1319d2ed26c",
   "metadata": {},
   "outputs": [],
   "source": [
    "from utils import one_dragon_utils"
   ]
  }
 ],
 "metadata": {
  "kernelspec": {
   "display_name": "Python 3 (ipykernel)",
   "language": "python",
   "name": "python3"
  },
  "language_info": {
   "codemirror_mode": {
    "name": "ipython",
    "version": 3
   },
   "file_extension": ".py",
   "mimetype": "text/x-python",
   "name": "python",
   "nbconvert_exporter": "python",
   "pygments_lexer": "ipython3",
   "version": "3.11.3"
  }
 },
 "nbformat": 4,
 "nbformat_minor": 5
}
