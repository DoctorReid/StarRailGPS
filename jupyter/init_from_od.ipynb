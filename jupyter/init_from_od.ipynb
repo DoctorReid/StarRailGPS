{
 "cells": [
  {
   "cell_type": "code",
   "execution_count": 1,
   "id": "432eba31-b154-48c4-aeb3-94222745f1b9",
   "metadata": {},
   "outputs": [],
   "source": [
    "import os\n",
    "os.environ['ONE_DRAGON_DIR'] = 'F:\\code\\workspace\\StarRailOneDragon'\n",
    "import sys\n",
    "sys.path.append('../src')"
   ]
  },
  {
   "cell_type": "code",
   "execution_count": 2,
   "id": "e87ef72e-5df4-4f4d-aa21-d1319d2ed26c",
   "metadata": {},
   "outputs": [],
   "source": [
    "from utils import one_dragon_utils"
   ]
  },
  {
   "cell_type": "code",
   "execution_count": 3,
   "id": "766570cd-e856-4c56-b19c-42845d73a370",
   "metadata": {
    "editable": true,
    "slideshow": {
     "slide_type": ""
    },
    "tags": []
   },
   "outputs": [
    {
     "name": "stderr",
     "output_type": "stream",
     "text": [
      "[18:30:59] [one_dragon_utils.py 140] [INFO]: 总共同步 50 张图片\n",
      "[18:31:18] [one_dragon_utils.py 100] [INFO]: 总共同步 4517 个样例\n",
      "[18:31:18] [one_dragon_utils.py 160] [ERROR]: 原始坐标数据文件夹不存在 P01_KJZHT_R01_ZKCD\n",
      "[18:31:21] [one_dragon_utils.py 160] [ERROR]: 原始坐标数据文件夹不存在 P01_KJZHT_R05_JBCD_F1\n",
      "[18:31:23] [one_dragon_utils.py 160] [ERROR]: 原始坐标数据文件夹不存在 P01_KJZHT_R05_JBCD_F3\n",
      "[18:31:23] [one_dragon_utils.py 160] [ERROR]: 原始坐标数据文件夹不存在 P02_YLL6_R01_XZQ_B1\n",
      "[18:31:23] [one_dragon_utils.py 160] [ERROR]: 原始坐标数据文件夹不存在 P02_YLL6_R01_XZQ_F1\n",
      "[18:31:25] [one_dragon_utils.py 160] [ERROR]: 原始坐标数据文件夹不存在 P02_YLL6_R04_TWJQ\n",
      "[18:31:28] [one_dragon_utils.py 160] [ERROR]: 原始坐标数据文件夹不存在 P02_YLL6_R07_ZWZZ\n",
      "[18:31:28] [one_dragon_utils.py 160] [ERROR]: 原始坐标数据文件夹不存在 P02_YLL6_R08_JWQSYC_F2\n",
      "[18:31:28] [one_dragon_utils.py 160] [ERROR]: 原始坐标数据文件夹不存在 P02_YLL6_R09_PYZ\n",
      "[18:31:30] [one_dragon_utils.py 160] [ERROR]: 原始坐标数据文件夹不存在 P02_YLL6_R11_MDZ_F2\n",
      "[18:31:32] [one_dragon_utils.py 160] [ERROR]: 原始坐标数据文件夹不存在 P02_YLL6_R12_JXJL_F2\n",
      "[18:31:32] [one_dragon_utils.py 160] [ERROR]: 原始坐标数据文件夹不存在 P03_XZLF_R01_XCHZS\n",
      "[18:31:39] [one_dragon_utils.py 160] [ERROR]: 原始坐标数据文件夹不存在 P03_XZLF_R04_CLT\n",
      "[18:31:39] [one_dragon_utils.py 160] [ERROR]: 原始坐标数据文件夹不存在 P03_XZLF_R05_JRX\n",
      "[18:32:01] [one_dragon_utils.py 160] [ERROR]: 原始坐标数据文件夹不存在 P04_PNKN_R01_BRMJDXS_F1\n",
      "[18:32:01] [one_dragon_utils.py 160] [ERROR]: 原始坐标数据文件夹不存在 P04_PNKN_R01_BRMJDXS_F2\n",
      "[18:32:01] [one_dragon_utils.py 160] [ERROR]: 原始坐标数据文件夹不存在 P04_PNKN_R01_BRMJDXS_F3\n",
      "[18:32:01] [one_dragon_utils.py 160] [ERROR]: 原始坐标数据文件夹不存在 P04_PNKN_R02_HJDXS_F1\n",
      "[18:32:01] [one_dragon_utils.py 160] [ERROR]: 原始坐标数据文件夹不存在 P04_PNKN_R02_HJDXS_F2\n",
      "[18:32:01] [one_dragon_utils.py 160] [ERROR]: 原始坐标数据文件夹不存在 P04_PNKN_R02_HJDXS_F3\n",
      "[18:32:05] [one_dragon_utils.py 160] [ERROR]: 原始坐标数据文件夹不存在 P04_PNKN_R05_BRMJDMJ_F2\n",
      "[18:32:06] [one_dragon_utils.py 226] [INFO]: 总共同步 4517 份样例\n"
     ]
    }
   ],
   "source": [
    "one_dragon_utils.sync_all(2)"
   ]
  }
 ],
 "metadata": {
  "kernelspec": {
   "display_name": "Python 3 (ipykernel)",
   "language": "python",
   "name": "python3"
  },
  "language_info": {
   "codemirror_mode": {
    "name": "ipython",
    "version": 3
   },
   "file_extension": ".py",
   "mimetype": "text/x-python",
   "name": "python",
   "nbconvert_exporter": "python",
   "pygments_lexer": "ipython3",
   "version": "3.11.3"
  }
 },
 "nbformat": 4,
 "nbformat_minor": 5
}
