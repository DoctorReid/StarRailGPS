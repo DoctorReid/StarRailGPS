{
 "cells": [
  {
   "cell_type": "code",
   "execution_count": 1,
   "id": "de2e0a63-3c4d-4391-a2c8-9872136e726a",
   "metadata": {},
   "outputs": [],
   "source": [
    "import os\n",
    "os.environ['ONE_DRAGON_DIR'] = 'F:\\code\\workspace\\StarRailOneDragon'\n",
    "import sys\n",
    "sys.path.append('../src')"
   ]
  },
  {
   "cell_type": "code",
   "execution_count": 2,
   "id": "d3d52ee5-1dd6-46a9-83e1-f28989ebcdf9",
   "metadata": {},
   "outputs": [],
   "source": [
    "import torch\n",
    "import torch.nn as nn"
   ]
  },
  {
   "cell_type": "code",
   "execution_count": 3,
   "id": "a1db6996-8aa6-438a-9b1f-492a0a3582b2",
   "metadata": {},
   "outputs": [],
   "source": [
    "from utils import pytorch_utils"
   ]
  },
  {
   "cell_type": "code",
   "execution_count": 4,
   "id": "e25797b6-3d11-4bef-b110-dd16c88eb8b5",
   "metadata": {},
   "outputs": [],
   "source": [
    "from model import v1 as v1"
   ]
  },
  {
   "cell_type": "code",
   "execution_count": 5,
   "id": "37f05a0a-c4b9-4e35-9cc3-5483021894ef",
   "metadata": {},
   "outputs": [
    {
     "name": "stderr",
     "output_type": "stream",
     "text": [
      "F:\\code\\workspace\\StarRailGPS\\.env\\venv\\Lib\\site-packages\\torchvision\\models\\_utils.py:208: UserWarning: The parameter 'pretrained' is deprecated since 0.13 and may be removed in the future, please use 'weights' instead.\n",
      "  warnings.warn(\n",
      "F:\\code\\workspace\\StarRailGPS\\.env\\venv\\Lib\\site-packages\\torchvision\\models\\_utils.py:223: UserWarning: Arguments other than a weight enum or `None` for 'weights' are deprecated since 0.13 and may be removed in the future. The current behavior is equivalent to passing `weights=None`.\n",
      "  warnings.warn(msg)\n",
      "[19:08:44] [v1.py 65] [INFO]: Dataset加载完毕 总共 4517\n",
      "[19:09:10] [v1.py 65] [INFO]: Dataset加载完毕 总共 4517\n"
     ]
    },
    {
     "data": {
      "text/plain": [
       "MSELoss()"
      ]
     },
     "execution_count": 5,
     "metadata": {},
     "output_type": "execute_result"
    }
   ],
   "source": [
    "device = pytorch_utils.get_default_device()\n",
    "model = v1.StarRailGPSV1()\n",
    "train_dataset, train_loader = v1.get_data(version=1)\n",
    "test_data_set, test_loader = v1.get_data(version=2)\n",
    "criterion = nn.MSELoss()\n",
    "optimizer = torch.optim.Adam(model.parameters(), lr=1e-3)\n",
    "\n",
    "model.to(device)\n",
    "criterion.to(device)"
   ]
  },
  {
   "cell_type": "code",
   "execution_count": 6,
   "id": "165fdd18-84aa-4109-b463-7dc24fe959b0",
   "metadata": {
    "editable": true,
    "slideshow": {
     "slide_type": ""
    },
    "tags": []
   },
   "outputs": [
    {
     "name": "stderr",
     "output_type": "stream",
     "text": [
      "[19:09:24] [v1.py 161] [INFO]: Epoch 0: Train loss 8027.88134765625. Test loss 1269.64208984375\n",
      "[19:11:01] [v1.py 161] [INFO]: Epoch 10: Train loss 625.5686645507812. Test loss 773.77490234375\n",
      "[19:12:39] [v1.py 161] [INFO]: Epoch 20: Train loss 123.78001403808594. Test loss 700.1824340820312\n",
      "[19:14:17] [v1.py 161] [INFO]: Epoch 30: Train loss 80.99090576171875. Test loss 709.6764526367188\n",
      "[19:15:55] [v1.py 161] [INFO]: Epoch 40: Train loss 79.82982635498047. Test loss 693.9237060546875\n",
      "[19:17:33] [v1.py 161] [INFO]: Epoch 50: Train loss 63.029022216796875. Test loss 727.7449951171875\n",
      "[19:19:10] [v1.py 161] [INFO]: Epoch 60: Train loss 55.80659103393555. Test loss 691.8991088867188\n",
      "[19:20:48] [v1.py 161] [INFO]: Epoch 70: Train loss 45.008888244628906. Test loss 693.4940185546875\n",
      "[19:22:26] [v1.py 161] [INFO]: Epoch 80: Train loss 41.18101119995117. Test loss 675.1644897460938\n",
      "[19:24:04] [v1.py 161] [INFO]: Epoch 90: Train loss 32.042991638183594. Test loss 675.7259521484375\n"
     ]
    }
   ],
   "source": [
    "v1.train(model, train_loader, test_loader, criterion, optimizer, num_epochs=100, device=device)"
   ]
  },
  {
   "cell_type": "code",
   "execution_count": 7,
   "id": "72c10f90-d90b-4c73-a4f0-66345be7ee25",
   "metadata": {},
   "outputs": [
    {
     "name": "stdout",
     "output_type": "stream",
     "text": [
      "1\n",
      "\f",
      "\n"
     ]
    }
   ],
   "source": [
    "print(1)\n",
    "%clear"
   ]
  },
  {
   "cell_type": "code",
   "execution_count": 8,
   "id": "f3fc8bac-0559-4d37-a27d-53276ed40d63",
   "metadata": {},
   "outputs": [
    {
     "ename": "NameError",
     "evalue": "name 'cl' is not defined",
     "output_type": "error",
     "traceback": [
      "\u001b[1;31m---------------------------------------------------------------------------\u001b[0m",
      "\u001b[1;31mNameError\u001b[0m                                 Traceback (most recent call last)",
      "Cell \u001b[1;32mIn[8], line 1\u001b[0m\n\u001b[1;32m----> 1\u001b[0m \u001b[43mcl\u001b[49m\n",
      "\u001b[1;31mNameError\u001b[0m: name 'cl' is not defined"
     ]
    }
   ],
   "source": [
    "cl"
   ]
  }
 ],
 "metadata": {
  "kernelspec": {
   "display_name": "Python 3 (ipykernel)",
   "language": "python",
   "name": "python3"
  },
  "language_info": {
   "codemirror_mode": {
    "name": "ipython",
    "version": 3
   },
   "file_extension": ".py",
   "mimetype": "text/x-python",
   "name": "python",
   "nbconvert_exporter": "python",
   "pygments_lexer": "ipython3",
   "version": "3.11.3"
  }
 },
 "nbformat": 4,
 "nbformat_minor": 5
}
