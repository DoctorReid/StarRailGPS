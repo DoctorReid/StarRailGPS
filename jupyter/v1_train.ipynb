{
 "cells": [
  {
   "cell_type": "code",
   "execution_count": 1,
   "id": "de2e0a63-3c4d-4391-a2c8-9872136e726a",
   "metadata": {},
   "outputs": [],
   "source": [
    "import os\n",
    "os.environ['ONE_DRAGON_DIR'] = 'F:\\code\\workspace\\StarRailOneDragon'\n",
    "import sys\n",
    "sys.path.append('../src')"
   ]
  },
  {
   "cell_type": "code",
   "execution_count": 2,
   "id": "a1db6996-8aa6-438a-9b1f-492a0a3582b2",
   "metadata": {},
   "outputs": [],
   "source": [
    "import model.v1 as v1"
   ]
  },
  {
   "cell_type": "code",
   "execution_count": 3,
   "id": "37f05a0a-c4b9-4e35-9cc3-5483021894ef",
   "metadata": {},
   "outputs": [],
   "source": [
    "dataset, dataloader = v1.get_data(version=1)"
   ]
  },
  {
   "cell_type": "code",
   "execution_count": 5,
   "id": "165fdd18-84aa-4109-b463-7dc24fe959b0",
   "metadata": {},
   "outputs": [],
   "source": [
    "import torch"
   ]
  },
  {
   "cell_type": "code",
   "execution_count": 6,
   "id": "126e3217-696b-4520-9356-8e2d5c4cce23",
   "metadata": {},
   "outputs": [],
   "source": [
    "device = (\n",
    "    \"cuda\"\n",
    "    if torch.cuda.is_available()\n",
    "    else \"mps\"\n",
    "    if torch.backends.mps.is_available()\n",
    "    else \"cpu\"\n",
    ")"
   ]
  },
  {
   "cell_type": "code",
   "execution_count": 7,
   "id": "34805751-5c5d-48a5-aca1-4824c64cc3cd",
   "metadata": {},
   "outputs": [
    {
     "data": {
      "text/plain": [
       "'cuda'"
      ]
     },
     "execution_count": 7,
     "metadata": {},
     "output_type": "execute_result"
    }
   ],
   "source": [
    "device"
   ]
  },
  {
   "cell_type": "code",
   "execution_count": null,
   "id": "ae80bf9f-bcf2-408d-bfd7-47624be4070e",
   "metadata": {},
   "outputs": [],
   "source": []
  }
 ],
 "metadata": {
  "kernelspec": {
   "display_name": "Python 3 (ipykernel)",
   "language": "python",
   "name": "python3"
  },
  "language_info": {
   "codemirror_mode": {
    "name": "ipython",
    "version": 3
   },
   "file_extension": ".py",
   "mimetype": "text/x-python",
   "name": "python",
   "nbconvert_exporter": "python",
   "pygments_lexer": "ipython3",
   "version": "3.11.3"
  }
 },
 "nbformat": 4,
 "nbformat_minor": 5
}
